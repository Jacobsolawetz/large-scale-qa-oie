{
 "cells": [
  {
   "cell_type": "code",
   "execution_count": 42,
   "metadata": {},
   "outputs": [],
   "source": [
    "f = open('ls_long_sort_orig_qdist_train.conll')\n",
    "f = f.read()\n",
    "f = f.split('\\n')"
   ]
  },
  {
   "cell_type": "code",
   "execution_count": 48,
   "metadata": {},
   "outputs": [
    {
     "name": "stdout",
     "output_type": "stream",
     "text": [
      "ls_long_sort_orig_qdist_dev.conll\n",
      "extractions :5270\n",
      "sents :2267\n",
      "ls_long_sort_orig_qdist_science_dev.conll\n",
      "extractions :64\n",
      "sents :43\n",
      "ls_long_sort_orig_qdist_science_test.conll\n",
      "extractions :17003\n",
      "sents :9063\n",
      "ls_long_sort_orig_qdist_test.conll\n",
      "extractions :5375\n",
      "sents :2403\n",
      "ls_long_sort_orig_qdist_train.conll\n",
      "extractions :46017\n",
      "sents :19626\n",
      "ls_long_sort_orig_qdist_train_science.conll\n",
      "extractions :80483\n",
      "sents :38892\n"
     ]
    }
   ],
   "source": [
    "files = ['ls_long_sort_orig_qdist_dev.conll', 'ls_long_sort_orig_qdist_science_dev.conll',\\\n",
    "        'ls_long_sort_orig_qdist_science_test.conll', 'ls_long_sort_orig_qdist_test.conll',\\\n",
    "        'ls_long_sort_orig_qdist_train.conll',\\\n",
    "        'ls_long_sort_orig_qdist_train_science.conll']\n",
    "\n",
    "for fil in files:\n",
    "    print(fil)\n",
    "    f = open(fil)\n",
    "    f = f.read()\n",
    "    f = f.split('\\n')\n",
    "    sent = ''\n",
    "    sents = []\n",
    "    for i in range(len(f)):\n",
    "        line = f[i].split('\\t')\n",
    "        if len(line) < 2:\n",
    "            #print(sent)\n",
    "            sents.append(sent)\n",
    "            sent = ''\n",
    "\n",
    "        else:\n",
    "            sent += line[1]\n",
    "    print('extractions :' + str(len(sents)))\n",
    "    print('sents :' + str(len(list(set(sents)))))"
   ]
  },
  {
   "cell_type": "code",
   "execution_count": 53,
   "metadata": {},
   "outputs": [
    {
     "name": "stdout",
     "output_type": "stream",
     "text": [
      "ls_long_sort_orig_qdist_train_science.conll\n",
      "extractions :10907\n",
      "sents :6417\n"
     ]
    }
   ],
   "source": [
    "files = [\n",
    "        'ls_long_sort_orig_qdist_train_science.conll']\n",
    "\n",
    "for fil in files:\n",
    "    print(fil)\n",
    "    f = open(fil)\n",
    "    f = f.read()\n",
    "    f = f.split('\\n')\n",
    "    sent = ''\n",
    "    sents = []\n",
    "    for i in range(200000):\n",
    "        line = f[i].split('\\t')\n",
    "        if len(line) < 2:\n",
    "            #print(sent)\n",
    "            sents.append(sent)\n",
    "            sent = ''\n",
    "\n",
    "        else:\n",
    "            sent += line[1]\n",
    "    print('extractions :' + str(len(sents)))\n",
    "    print('sents :' + str(len(list(set(sents)))))"
   ]
  },
  {
   "cell_type": "code",
   "execution_count": 18,
   "metadata": {},
   "outputs": [
    {
     "ename": "IndexError",
     "evalue": "list index out of range",
     "output_type": "error",
     "traceback": [
      "\u001b[0;31m---------------------------------------------------------------------------\u001b[0m",
      "\u001b[0;31mIndexError\u001b[0m                                Traceback (most recent call last)",
      "\u001b[0;32m<ipython-input-18-8c1b5db2aad9>\u001b[0m in \u001b[0;36m<module>\u001b[0;34m()\u001b[0m\n\u001b[0;32m----> 1\u001b[0;31m \u001b[0mf\u001b[0m\u001b[0;34m.\u001b[0m\u001b[0mread\u001b[0m\u001b[0;34m(\u001b[0m\u001b[0;34m)\u001b[0m\u001b[0;34m.\u001b[0m\u001b[0msplit\u001b[0m\u001b[0;34m(\u001b[0m\u001b[0;34m'\\n'\u001b[0m\u001b[0;34m)\u001b[0m\u001b[0;34m[\u001b[0m\u001b[0;36m5\u001b[0m\u001b[0;34m]\u001b[0m\u001b[0;34m\u001b[0m\u001b[0;34m\u001b[0m\u001b[0m\n\u001b[0m",
      "\u001b[0;31mIndexError\u001b[0m: list index out of range"
     ]
    }
   ],
   "source": [
    "f.read().split('\\n')[5]"
   ]
  },
  {
   "cell_type": "code",
   "execution_count": 44,
   "metadata": {},
   "outputs": [
    {
     "data": {
      "text/plain": [
       "19626"
      ]
     },
     "execution_count": 44,
     "metadata": {},
     "output_type": "execute_result"
    }
   ],
   "source": [
    "len(list(set(sents)))"
   ]
  },
  {
   "cell_type": "code",
   "execution_count": 45,
   "metadata": {},
   "outputs": [
    {
     "data": {
      "text/plain": [
       "46017"
      ]
     },
     "execution_count": 45,
     "metadata": {},
     "output_type": "execute_result"
    }
   ],
   "source": [
    "len(sents)"
   ]
  },
  {
   "cell_type": "code",
   "execution_count": 40,
   "metadata": {},
   "outputs": [
    {
     "data": {
      "text/plain": [
       "{''}"
      ]
     },
     "execution_count": 40,
     "metadata": {},
     "output_type": "execute_result"
    }
   ],
   "source": [
    "set(sents)"
   ]
  },
  {
   "cell_type": "code",
   "execution_count": 41,
   "metadata": {},
   "outputs": [
    {
     "data": {
      "text/plain": [
       "''"
      ]
     },
     "execution_count": 41,
     "metadata": {},
     "output_type": "execute_result"
    }
   ],
   "source": [
    "sents[4]"
   ]
  },
  {
   "cell_type": "code",
   "execution_count": 52,
   "metadata": {},
   "outputs": [
    {
     "name": "stdout",
     "output_type": "stream",
     "text": [
      "ls_long_sort_orig_qdist_dev.conll\n",
      "2.1473044798785117\n",
      "ls_long_sort_orig_qdist_science_dev.conll\n",
      "2.0476190476190474\n",
      "ls_long_sort_orig_qdist_science_test.conll\n",
      "2.007355104442483\n",
      "ls_long_sort_orig_qdist_test.conll\n",
      "2.1036664805509027\n",
      "ls_long_sort_orig_qdist_train.conll\n",
      "2.143267098569503\n",
      "ls_long_sort_orig_qdist_train_science.conll\n",
      "2.069120242623114\n"
     ]
    }
   ],
   "source": [
    "\"\"\" Usage:\n",
    "    viz_tags --in=INPUT_FILE --out=OUTPUT_FILE\n",
    "\"\"\"\n",
    "from matplotlib.backends.backend_pdf import PdfPages\n",
    "import os\n",
    "import pandas as pd\n",
    "import matplotlib\n",
    "#matplotlib.use('Agg')\n",
    "import matplotlib.pyplot as plt\n",
    "\n",
    "files = ['ls_long_sort_orig_qdist_dev.conll', \\\n",
    "'ls_long_sort_orig_qdist_science_dev.conll', \\\n",
    "'ls_long_sort_orig_qdist_science_test.conll', \\\n",
    "'ls_long_sort_orig_qdist_test.conll', \\\n",
    "'ls_long_sort_orig_qdist_train.conll', \\\n",
    "'ls_long_sort_orig_qdist_train_science.conll' \\\n",
    "\n",
    "]\n",
    "\n",
    "for input_fn in files:\n",
    "    print(input_fn)\n",
    "    #input_fn = 'ls_long_sort_orig_qdist_dev.conll'\n",
    "    df = pd.read_csv(input_fn, sep = \"\\t\", skip_blank_lines = True, header = None)\n",
    "    df = df.groupby(7).count().reset_index()\n",
    "    df = df[(df[7] == 'A0-B') | (df[7] == 'A1-B') | (df[7] == 'A2-B') | (df[7] == 'A3-B') | (df[7] == 'A4-B') | (df[7] == 'A5-B')]\n",
    "    df = df[[7,1]]\n",
    "    df[2] = df[1].shift(-1)\n",
    "    df = df.fillna(0)\n",
    "    df[3] = df[1] - df[2]\n",
    "    df[4] = list(range(len(df)))\n",
    "    df[4] = df[4] + 1\n",
    "    print((df[3] * df[4]).sum()/df[3].sum())\n",
    "    \n",
    "    \n",
    "    #print(df[df[7] == 'O'][0]/ df[0].sum())\n",
    "\n",
    "#ax = df.groupby(7).count()[1].plot.pie(autopct='%1.1f%%')\n",
    "#ax.set_title('distribution of tag labels')\n",
    "#pp = PdfPages(output_fn)\n",
    "#fig = ax.get_figure()\n",
    "#pp.savefig(fig)\n",
    "#fig.clear()\n",
    "#pp.close()\n",
    "\n",
    "\n"
   ]
  },
  {
   "cell_type": "code",
   "execution_count": 43,
   "metadata": {},
   "outputs": [],
   "source": [
    "df[2] = df[1].shift(-1)\n",
    "df = df.fillna(0)\n",
    "df[3] = df[1] - df[2]\n",
    "df[4] = list(range(len(df)))\n",
    "df[4] = df[4] + 1\n",
    "(df[3] * df[4]).sum()/df[3].sum()"
   ]
  },
  {
   "cell_type": "code",
   "execution_count": 45,
   "metadata": {},
   "outputs": [
    {
     "data": {
      "text/plain": [
       "2.069120242623114"
      ]
     },
     "execution_count": 45,
     "metadata": {},
     "output_type": "execute_result"
    }
   ],
   "source": [
    "(df[3] * df[4]).sum()/df[3].sum()"
   ]
  },
  {
   "cell_type": "code",
   "execution_count": 36,
   "metadata": {},
   "outputs": [
    {
     "data": {
      "text/html": [
       "<div>\n",
       "<style scoped>\n",
       "    .dataframe tbody tr th:only-of-type {\n",
       "        vertical-align: middle;\n",
       "    }\n",
       "\n",
       "    .dataframe tbody tr th {\n",
       "        vertical-align: top;\n",
       "    }\n",
       "\n",
       "    .dataframe thead th {\n",
       "        text-align: right;\n",
       "    }\n",
       "</style>\n",
       "<table border=\"1\" class=\"dataframe\">\n",
       "  <thead>\n",
       "    <tr style=\"text-align: right;\">\n",
       "      <th></th>\n",
       "      <th>7</th>\n",
       "      <th>1</th>\n",
       "      <th>2</th>\n",
       "      <th>3</th>\n",
       "    </tr>\n",
       "  </thead>\n",
       "  <tbody>\n",
       "    <tr>\n",
       "      <th>0</th>\n",
       "      <td>A0-B</td>\n",
       "      <td>80454</td>\n",
       "      <td>63476.0</td>\n",
       "      <td>16978.0</td>\n",
       "    </tr>\n",
       "    <tr>\n",
       "      <th>2</th>\n",
       "      <td>A1-B</td>\n",
       "      <td>63476</td>\n",
       "      <td>19098.0</td>\n",
       "      <td>44378.0</td>\n",
       "    </tr>\n",
       "    <tr>\n",
       "      <th>4</th>\n",
       "      <td>A2-B</td>\n",
       "      <td>19098</td>\n",
       "      <td>3140.0</td>\n",
       "      <td>15958.0</td>\n",
       "    </tr>\n",
       "    <tr>\n",
       "      <th>6</th>\n",
       "      <td>A3-B</td>\n",
       "      <td>3140</td>\n",
       "      <td>292.0</td>\n",
       "      <td>2848.0</td>\n",
       "    </tr>\n",
       "    <tr>\n",
       "      <th>8</th>\n",
       "      <td>A4-B</td>\n",
       "      <td>292</td>\n",
       "      <td>9.0</td>\n",
       "      <td>283.0</td>\n",
       "    </tr>\n",
       "    <tr>\n",
       "      <th>10</th>\n",
       "      <td>A5-B</td>\n",
       "      <td>9</td>\n",
       "      <td>0.0</td>\n",
       "      <td>9.0</td>\n",
       "    </tr>\n",
       "  </tbody>\n",
       "</table>\n",
       "</div>"
      ],
      "text/plain": [
       "       7      1        2        3\n",
       "0   A0-B  80454  63476.0  16978.0\n",
       "2   A1-B  63476  19098.0  44378.0\n",
       "4   A2-B  19098   3140.0  15958.0\n",
       "6   A3-B   3140    292.0   2848.0\n",
       "8   A4-B    292      9.0    283.0\n",
       "10  A5-B      9      0.0      9.0"
      ]
     },
     "execution_count": 36,
     "metadata": {},
     "output_type": "execute_result"
    }
   ],
   "source": [
    "df"
   ]
  },
  {
   "cell_type": "code",
   "execution_count": 49,
   "metadata": {},
   "outputs": [],
   "source": [
    "    df = pd.read_csv('dev.gold_conll', sep = \"\\t\", skip_blank_lines = True, header = None)\n"
   ]
  },
  {
   "cell_type": "code",
   "execution_count": 50,
   "metadata": {},
   "outputs": [
    {
     "data": {
      "text/html": [
       "<div>\n",
       "<style scoped>\n",
       "    .dataframe tbody tr th:only-of-type {\n",
       "        vertical-align: middle;\n",
       "    }\n",
       "\n",
       "    .dataframe tbody tr th {\n",
       "        vertical-align: top;\n",
       "    }\n",
       "\n",
       "    .dataframe thead th {\n",
       "        text-align: right;\n",
       "    }\n",
       "</style>\n",
       "<table border=\"1\" class=\"dataframe\">\n",
       "  <thead>\n",
       "    <tr style=\"text-align: right;\">\n",
       "      <th></th>\n",
       "      <th>0</th>\n",
       "      <th>1</th>\n",
       "      <th>2</th>\n",
       "      <th>3</th>\n",
       "      <th>4</th>\n",
       "      <th>5</th>\n",
       "      <th>6</th>\n",
       "      <th>7</th>\n",
       "      <th>8</th>\n",
       "      <th>9</th>\n",
       "      <th>10</th>\n",
       "      <th>11</th>\n",
       "      <th>12</th>\n",
       "    </tr>\n",
       "  </thead>\n",
       "  <tbody>\n",
       "    <tr>\n",
       "      <th>0</th>\n",
       "      <td>train</td>\n",
       "      <td>0.0</td>\n",
       "      <td>0.0</td>\n",
       "      <td>QVC</td>\n",
       "      <td>XX</td>\n",
       "      <td>-</td>\n",
       "      <td>-</td>\n",
       "      <td>-</td>\n",
       "      <td>-</td>\n",
       "      <td>-</td>\n",
       "      <td>*</td>\n",
       "      <td>(ARG0*</td>\n",
       "      <td>-</td>\n",
       "    </tr>\n",
       "    <tr>\n",
       "      <th>1</th>\n",
       "      <td>train</td>\n",
       "      <td>0.0</td>\n",
       "      <td>1.0</td>\n",
       "      <td>Network</td>\n",
       "      <td>XX</td>\n",
       "      <td>-</td>\n",
       "      <td>-</td>\n",
       "      <td>-</td>\n",
       "      <td>-</td>\n",
       "      <td>-</td>\n",
       "      <td>*</td>\n",
       "      <td>*</td>\n",
       "      <td>-</td>\n",
       "    </tr>\n",
       "    <tr>\n",
       "      <th>2</th>\n",
       "      <td>train</td>\n",
       "      <td>0.0</td>\n",
       "      <td>2.0</td>\n",
       "      <td>Inc.</td>\n",
       "      <td>XX</td>\n",
       "      <td>-</td>\n",
       "      <td>-</td>\n",
       "      <td>-</td>\n",
       "      <td>-</td>\n",
       "      <td>-</td>\n",
       "      <td>*</td>\n",
       "      <td>*)</td>\n",
       "      <td>-</td>\n",
       "    </tr>\n",
       "    <tr>\n",
       "      <th>3</th>\n",
       "      <td>train</td>\n",
       "      <td>0.0</td>\n",
       "      <td>3.0</td>\n",
       "      <td>said</td>\n",
       "      <td>XX</td>\n",
       "      <td>-</td>\n",
       "      <td>-</td>\n",
       "      <td>-</td>\n",
       "      <td>-</td>\n",
       "      <td>-</td>\n",
       "      <td>*</td>\n",
       "      <td>(V*)</td>\n",
       "      <td>-</td>\n",
       "    </tr>\n",
       "    <tr>\n",
       "      <th>4</th>\n",
       "      <td>train</td>\n",
       "      <td>0.0</td>\n",
       "      <td>4.0</td>\n",
       "      <td>it</td>\n",
       "      <td>XX</td>\n",
       "      <td>-</td>\n",
       "      <td>-</td>\n",
       "      <td>-</td>\n",
       "      <td>-</td>\n",
       "      <td>-</td>\n",
       "      <td>*</td>\n",
       "      <td>(ARG1*</td>\n",
       "      <td>-</td>\n",
       "    </tr>\n",
       "  </tbody>\n",
       "</table>\n",
       "</div>"
      ],
      "text/plain": [
       "      0    1    2        3   4  5  6  7  8  9  10      11 12\n",
       "0  train  0.0  0.0      QVC  XX  -  -  -  -  -  *  (ARG0*  -\n",
       "1  train  0.0  1.0  Network  XX  -  -  -  -  -  *       *  -\n",
       "2  train  0.0  2.0     Inc.  XX  -  -  -  -  -  *      *)  -\n",
       "3  train  0.0  3.0     said  XX  -  -  -  -  -  *    (V*)  -\n",
       "4  train  0.0  4.0       it  XX  -  -  -  -  -  *  (ARG1*  -"
      ]
     },
     "execution_count": 50,
     "metadata": {},
     "output_type": "execute_result"
    }
   ],
   "source": [
    "df.head()"
   ]
  },
  {
   "cell_type": "code",
   "execution_count": 51,
   "metadata": {},
   "outputs": [
    {
     "name": "stdout",
     "output_type": "stream",
     "text": [
      "train.gold_conll\n",
      "        11    1 \n",
      "0   (ARG0*  3778\n",
      "2   (ARG1*  3826\n",
      "4   (ARG2*  1627\n",
      "6   (ARG3*   422\n",
      "8   (ARG4*    80\n",
      "10  (ARG5*     7\n",
      "2.5780836421386977\n",
      "dev.gold_conll\n",
      "        11    1 \n",
      "0   (ARG0*  1275\n",
      "2   (ARG1*  1262\n",
      "4   (ARG2*   561\n",
      "6   (ARG3*   153\n",
      "8   (ARG4*    26\n",
      "10  (ARG5*     1\n",
      "2.5709803921568626\n"
     ]
    }
   ],
   "source": [
    "files = ['train.gold_conll', \\\n",
    "'dev.gold_conll' \\\n",
    "]\n",
    "\n",
    "for input_fn in files:\n",
    "    print(input_fn)\n",
    "    #input_fn = 'ls_long_sort_orig_qdist_dev.conll'\n",
    "    df = pd.read_csv(input_fn, sep = \"\\t\", skip_blank_lines = True, header = None)\n",
    "    df = df.groupby(11).count().reset_index()\n",
    "    df = df[(df[11] == '(ARG0*') | (df[11] == '(ARG1*') | (df[11] == '(ARG2*') | (df[11] == '(ARG3*') | (df[11] == '(ARG4*') | (df[11] == '(ARG5*')]\n",
    "    df = df[[11,1]]\n",
    "    print(df)\n",
    "    df[2] = df[1].shift(-1)\n",
    "    df = df.fillna(0)\n",
    "    df[3] = df[1] - df[2]\n",
    "    df[4] = list(range(len(df)))\n",
    "    df[4] = df[4] + 1\n",
    "    print((df[3] * df[4]).sum()/df[3].sum())\n",
    "    "
   ]
  },
  {
   "cell_type": "code",
   "execution_count": null,
   "metadata": {},
   "outputs": [],
   "source": [
    "#test is 2.45"
   ]
  }
 ],
 "metadata": {
  "kernelspec": {
   "display_name": "Python 3",
   "language": "python",
   "name": "python3"
  },
  "language_info": {
   "codemirror_mode": {
    "name": "ipython",
    "version": 3
   },
   "file_extension": ".py",
   "mimetype": "text/x-python",
   "name": "python",
   "nbconvert_exporter": "python",
   "pygments_lexer": "ipython3",
   "version": "3.6.9"
  }
 },
 "nbformat": 4,
 "nbformat_minor": 2
}
